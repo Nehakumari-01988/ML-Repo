{
  "nbformat": 4,
  "nbformat_minor": 0,
  "metadata": {
    "colab": {
      "provenance": []
    },
    "kernelspec": {
      "display_name": "Python 3",
      "language": "python",
      "name": "python3"
    },
    "language_info": {
      "codemirror_mode": {
        "name": "ipython",
        "version": 3
      },
      "file_extension": ".py",
      "mimetype": "text/x-python",
      "name": "python",
      "nbconvert_exporter": "python",
      "pygments_lexer": "ipython3",
      "version": "3.8.5"
    }
  },
  "cells": [
    {
      "cell_type": "markdown",
      "metadata": {
        "id": "Vf7UdufgUVRm"
      },
      "source": [
        "# Advanced Certification Program in Computational Data Science\n",
        "## A program by IISc and TalentSprint\n",
        "### Mini Project Notebook: Linear Algebra and Calculus"
      ]
    },
    {
      "cell_type": "markdown",
      "metadata": {
        "id": "TnGEuHJusOup"
      },
      "source": [
        "## Problem Statement"
      ]
    },
    {
      "cell_type": "markdown",
      "metadata": {
        "id": "xlkm2qM2sQ-T"
      },
      "source": [
        " The task is to advise a petroleum company on how to meet the demands of their customers for motor oil, diesel oil and gasoline."
      ]
    },
    {
      "cell_type": "markdown",
      "metadata": {
        "id": "cs0B3ScgUVRv"
      },
      "source": [
        "## Learning Objectives"
      ]
    },
    {
      "cell_type": "markdown",
      "metadata": {
        "id": "Sq5piVQRUVRw"
      },
      "source": [
        "At the end of the experiment, you will be able to\n",
        "\n",
        "* create arrays and matrices in python\n",
        "* understand the concepts of linear equations\n",
        "* solve the system of linear equations"
      ]
    },
    {
      "cell_type": "markdown",
      "metadata": {
        "id": "IvKa0MVttqXf"
      },
      "source": [
        "### Data"
      ]
    },
    {
      "cell_type": "markdown",
      "metadata": {
        "id": "dRrGFyZOtsAj"
      },
      "source": [
        "From a barrel of crude oil, in one day, factory $A$ can produce\n",
        "* 20 gallons of motor oil,\n",
        "* 10 gallons of diesel oil, and\n",
        "* 5 gallons of gasoline\n",
        "\n",
        "Similarly, factory $B$ can produce\n",
        "* 4 gallons of motor oil,\n",
        "* 14 gallons of diesel oil, and\n",
        "* 5 gallons of gasoline\n",
        "\n",
        "while factory $C$ can produce\n",
        "* 4 gallons of motor oil,\n",
        "* 5 gallons of diesel oil, and\n",
        "* 12 gallons of gasoline\n",
        "\n",
        "There is also waste in the form of paraffin, among other things. Factory $A$ has 3 gallons of paraffin to dispose of per barrel of crude, factory $B$ 5 gallons, and factory $C$ 2 gallons."
      ]
    },
    {
      "cell_type": "markdown",
      "metadata": {
        "id": "UK_englE4HnA"
      },
      "source": [
        "**Note:** Your conclusion should include a discussion of the nature of the terms *unique*, *no solution*, *overdetermined* and *underdetermined* as they apply in the context of the oil plants."
      ]
    },
    {
      "cell_type": "markdown",
      "metadata": {
        "id": "operating-latter"
      },
      "source": [
        "## Grading = 10 Points"
      ]
    },
    {
      "cell_type": "markdown",
      "metadata": {
        "id": "zAitCztdraex"
      },
      "source": [
        "### Create an array\n",
        "\n",
        "Create an array of size 2x3 with arbitrary values."
      ]
    },
    {
      "cell_type": "code",
      "metadata": {
        "id": "owKFXLLzrqVb",
        "colab": {
          "base_uri": "https://localhost:8080/"
        },
        "outputId": "7af05eb4-e81d-4d44-86d7-0914dc1b35d4"
      },
      "source": [
        "# YOUR CODE HERE\n",
        "import numpy as np\n",
        "Array_A = np.array([[1,2,3],[4,5,6]])\n",
        "Array_A"
      ],
      "execution_count": null,
      "outputs": [
        {
          "output_type": "execute_result",
          "data": {
            "text/plain": [
              "array([[1, 2, 3],\n",
              "       [4, 5, 6]])"
            ]
          },
          "metadata": {},
          "execution_count": 6
        }
      ]
    },
    {
      "cell_type": "markdown",
      "metadata": {
        "id": "K_7EztnGvzDK"
      },
      "source": [
        "### Create the system of Linear Equations"
      ]
    },
    {
      "cell_type": "markdown",
      "metadata": {
        "id": "zL9M9kmrv_ZA"
      },
      "source": [
        "Suppose the current daily demand from distributors is 6600 gallons of motor oil, 5100 gallons of diesel oil and 3100 of gasoline.\n",
        "\n",
        "Set up the system of equations which describes the above situation. Please include the units as well."
      ]
    },
    {
      "cell_type": "markdown",
      "metadata": {
        "id": "nbOcii0EZpUI"
      },
      "source": [
        "Let the number of barrels used by factory $A$, $B$ and $C$ are $x$, $y$ and $z$ respectively.\n",
        "\n",
        "Then the system of linear equations will be\n",
        "\n",
        "$$Motor\\ oil:\\ \\ \\ 20x + 4y + 4z = 6600$$\n",
        "\n",
        "$$Diesel\\ oil:\\ \\ \\ 10x + 14y + 5z = 5100$$\n",
        "\n",
        "$$Gasoline:\\ \\ \\ 5x + 5y + 12z = 3100$$"
      ]
    },
    {
      "cell_type": "markdown",
      "metadata": {
        "id": "1qLF2LvG2I8Y"
      },
      "source": [
        "### Solve the system of Linear Equation (2 points)"
      ]
    },
    {
      "cell_type": "markdown",
      "metadata": {
        "id": "FzjOkaq21_8L"
      },
      "source": [
        "How many barrels of crude oil each plant should get in order to meet the demand as a group. Remember that we can only provide each plant with an integral number of barrels."
      ]
    },
    {
      "cell_type": "code",
      "metadata": {
        "id": "Plx-kStlcGOW",
        "colab": {
          "base_uri": "https://localhost:8080/"
        },
        "outputId": "edf90207-5f3a-48af-fd1c-7c6c3a6391a3"
      },
      "source": [
        "# YOUR CODE HERE\n",
        "import scipy\n",
        "Matrix_oils = np.array([[20,4,4],[10,14,5],[5,5,12]])\n",
        "Matrix_demand = np.array([6600,5100,3100])\n",
        "solution = scipy.linalg.solve(Matrix_oils,Matrix_demand)\n",
        "print(\"unique solution\")\n",
        "solution.astype(int)\n",
        "\n"
      ],
      "execution_count": null,
      "outputs": [
        {
          "output_type": "stream",
          "name": "stdout",
          "text": [
            "unique solution\n"
          ]
        },
        {
          "output_type": "execute_result",
          "data": {
            "text/plain": [
              "array([287, 128,  85])"
            ]
          },
          "metadata": {},
          "execution_count": 7
        }
      ]
    },
    {
      "cell_type": "markdown",
      "metadata": {
        "id": "nY-rFiKAbVl3"
      },
      "source": [
        "Suppose the total demand for all products **doubled**. What would the solution now be? How does it compare to the original solution? Why, mathematically, should this have been expected?"
      ]
    },
    {
      "cell_type": "code",
      "metadata": {
        "id": "OODSS2bFcjKV",
        "colab": {
          "base_uri": "https://localhost:8080/"
        },
        "outputId": "7b0aa56a-5696-46b2-a4dc-f07bc02a837f"
      },
      "source": [
        "# YOUR CODE HERE\n",
        "Matrix_demand_double = np.array([6600*2,5100*2,3100*2])\n",
        "solution_doubled = scipy.linalg.solve(Matrix_oils,Matrix_demand_double)\n",
        "\n",
        "ratio = solution_doubled/solution\n",
        "print(\"ratio=\",ratio,\"solution=\",solution_doubled.astype(int))\n",
        "#scalar multiplication of a vector ( A B C factories)\n",
        "print(\" prodution is  multiplied by the same scalar multiple as  magnitude of demand\")"
      ],
      "execution_count": null,
      "outputs": [
        {
          "output_type": "stream",
          "name": "stdout",
          "text": [
            "ratio= [2. 2. 2.] solution= [574 257 170]\n",
            " prodution is  multiplied by the same scalar multiple as  magnitude of demand\n"
          ]
        }
      ]
    },
    {
      "cell_type": "markdown",
      "metadata": {
        "id": "p_1a-z0Gds6D"
      },
      "source": [
        "Suppose that the company acquires another group of distributors and that the daily demand of this group is 2000 gallons of motor oil, 4000 gallons of gasoline, and 4000 gallons of diesel oil. How would you set up production of just this supply? Are there any options (more than one way)?"
      ]
    },
    {
      "cell_type": "code",
      "metadata": {
        "id": "gWaeKh6eQe2W",
        "colab": {
          "base_uri": "https://localhost:8080/"
        },
        "outputId": "c292837d-b06a-4d6a-9279-de00e0af7841"
      },
      "source": [
        "# YOUR CODE HERE\n",
        "Matrix_demand_dist2 = np.array([2000,4000,4000])\n",
        "#Method 1\n",
        "solution_dist2 = scipy.linalg.solve(Matrix_oils,Matrix_demand_dist2)\n",
        "#Method 2\n",
        "solution_dist2_way2 = np.linalg.solve(Matrix_oils,Matrix_demand_dist2)\n",
        "solution_dist2.astype(int),solution_dist2_way2.astype(int)\n",
        "#Method 3\n",
        "import sympy as sy\n",
        "A = sy.Matrix([[20,4,4,2000],\n",
        "            [10,14,5,4000],\n",
        "            [5,5,12,4000]])\n",
        "B=A.rref()\n",
        "c=list(np.array(B[0]))\n",
        "print(\"solution3:\",round(c[0][3]),round(c[1][3]),round(c[2][3]))\n",
        "\n",
        "#two methods : numpy.linalg.solve(), scipy.linalg.solve()\n",
        "print(\"Unique solution: In order to balance the demand for factories A B and C is \",solution_dist2_way2.astype(int))"
      ],
      "execution_count": null,
      "outputs": [
        {
          "output_type": "stream",
          "name": "stdout",
          "text": [
            "solution3: 12 188 250\n",
            "Unique solution: In order to balance the demand for factories A B and C is  [ 12 187 250]\n"
          ]
        }
      ]
    },
    {
      "cell_type": "code",
      "source": [],
      "metadata": {
        "colab": {
          "base_uri": "https://localhost:8080/"
        },
        "id": "Z1Thw6KLoOFv",
        "outputId": "203c99d1-41dd-47fd-cdc2-3511936c91d9"
      },
      "execution_count": null,
      "outputs": [
        {
          "output_type": "execute_result",
          "data": {
            "text/plain": [
              "(Matrix([\n",
              " [1, 0, 0,  25/2],\n",
              " [0, 1, 0, 375/2],\n",
              " [0, 0, 1,   250]]),\n",
              " (0, 1, 2))"
            ]
          },
          "metadata": {},
          "execution_count": 16
        }
      ]
    },
    {
      "cell_type": "markdown",
      "metadata": {
        "id": "H4sayZf1etbN"
      },
      "source": [
        "Next, calculate the needs of each factory (in barrels of crude, as usual) to meet the total demand of both groups of distributors. When you have done this, compare your answer to results already obtained. What mathematical conclusion can you draw?"
      ]
    },
    {
      "cell_type": "code",
      "metadata": {
        "id": "Hjm5kcawewgT",
        "colab": {
          "base_uri": "https://localhost:8080/"
        },
        "outputId": "221104d4-8673-4625-a176-5e520344a009"
      },
      "source": [
        "# YOUR CODE HERE\n",
        "Matrix_demand_total = np.array([6600+2000,5100+4000,3100+4000])\n",
        "solution_total= scipy.linalg.solve(Matrix_oils,Matrix_demand_total)\n",
        "solution.astype(int),solution_dist2_way2.astype(int),solution_total.astype(int)\n",
        "print(\"solution=\",solution_total.astype(int))\n",
        "print(\"It is a unique solution. Total demand is the sum of dist1 and dist 2 , Solution is also the sum \")"
      ],
      "execution_count": null,
      "outputs": [
        {
          "output_type": "stream",
          "name": "stdout",
          "text": [
            "solution= [299 316 335]\n",
            "It is a unique solution. Total demand is the sum of dist1 and dist 2 , Solution is also the sum \n"
          ]
        }
      ]
    },
    {
      "cell_type": "markdown",
      "source": [
        "It shows that solution for total is sum of original solution(A B C ) and distributor D . And it is unique solution"
      ],
      "metadata": {
        "id": "hKHB47zE2O_t"
      }
    },
    {
      "cell_type": "markdown",
      "metadata": {
        "id": "ov7RWVpSpzhw"
      },
      "source": [
        "### Sensitivity and Robustness (1 point)"
      ]
    },
    {
      "cell_type": "markdown",
      "metadata": {
        "id": "G1MVw0x_fQMC"
      },
      "source": [
        "In real life applications, constants are rarely ever exactly equal to their stated value; certain amounts of uncertainty are always present. This is part of the reason for the science of statistics. In the above model, the daily productions for the plants would be averages over a period of time. Explore what effect small changes in the parameters have on the output.\n",
        "\n",
        "To do this, pick any 3 coefficients, one at a time, and increase or decrease them by 3%. For each case , note what effect this has on the solution, as a percentage change. Can you draw any overall conclusion?"
      ]
    },
    {
      "cell_type": "code",
      "metadata": {
        "id": "ObBZDKvYfqie",
        "colab": {
          "base_uri": "https://localhost:8080/"
        },
        "outputId": "eadcdf3c-584e-4d6e-aa0b-22f92641d9ef"
      },
      "source": [
        "# YOUR CODE HERE\n",
        "def per_ch(old, new):\n",
        "     pc = round((new - old) / abs(old) * 100, 2)\n",
        "     print(f\"from {old} to {new}   -> {pc}% change\")\n",
        "#Factory A_coeff_3%_increase\n",
        "Matrix_oils_new_A = np.array([[20*1.03,4,4],[10*1.03,14,5],[5*1.03,5,12]])\n",
        "solution_new_A= scipy.linalg.solve(Matrix_oils_new_A,Matrix_demand)\n",
        "print(solution_new_A.round(2))\n",
        "pc_inc_forA_inc = per_ch(solution[0],solution_new_A[0])\n",
        "#Factory B_coeff_3%_increase\n",
        "Matrix_oils_new_B = np.array([[20,4*1.03,4],[10,14*1.03,5],[5,5*1.03,12]])\n",
        "solution_new_B= scipy.linalg.solve(Matrix_oils_new_B,Matrix_demand)\n",
        "print(solution_new_B.round(2))\n",
        "pc_inc_forB_inc = per_ch(solution[1],solution_new_B[1])\n",
        "#Factory B_coeff_3%_deccrease\n",
        "Matrix_oils_new_b = np.array([[20,4*.97,4],[10,14*.97,5],[5,5*.97,12]])\n",
        "solution_new_b= scipy.linalg.solve(Matrix_oils_new_b,Matrix_demand)\n",
        "print(solution_new_b.round(2))\n",
        "pc_inc_forB_dec = per_ch(solution[1],solution_new_b[1])\n",
        "pc_inc_forA_inc,pc_inc_forB_inc,pc_inc_forB_dec\n",
        "#intuition\n",
        "print(\"3%  increase in the barells of a factory will decrease the its production by 3% and vice versa\")"
      ],
      "execution_count": null,
      "outputs": [
        {
          "output_type": "stream",
          "name": "stdout",
          "text": [
            "[278.88 128.75  85.  ]\n",
            "from 287.25 to 278.88349514563106   -> -2.91% change\n",
            "[287.25 125.    85.  ]\n",
            "from 128.75 to 125.0   -> -2.91% change\n",
            "[287.25 132.73  85.  ]\n",
            "from 128.75 to 132.7319587628866   -> 3.09% change\n",
            "3%  increase in the barells of a factory will decrease the its production by 3% and vice versa\n"
          ]
        }
      ]
    },
    {
      "cell_type": "markdown",
      "source": [
        "\"coeffients and solutions are inversely proportions , ie., increase in the coeff decrease the output of the factory and decrease in coeff increase the output of the factory\""
      ],
      "metadata": {
        "id": "kzyLaif83WEj"
      }
    },
    {
      "cell_type": "markdown",
      "metadata": {
        "id": "JOj5wcxQpzhx"
      },
      "source": [
        "### A Plant Off-Line (1 point)"
      ]
    },
    {
      "cell_type": "markdown",
      "metadata": {
        "id": "Dbm0HcJ7frNz"
      },
      "source": [
        "Suppose factory $C$ is shut down by the EPA (Environmental Protection Agency) temporarily for excessive emissions into the atmosphere. If your demand is as it was originally (6600, 5100, 3100), what would you now say about the companies ability to meet it? What do you recommend they schedule for production now?"
      ]
    },
    {
      "cell_type": "code",
      "metadata": {
        "id": "gpbtzvrVAST3",
        "colab": {
          "base_uri": "https://localhost:8080/"
        },
        "outputId": "f8e4bcd0-3e40-4bd3-d64d-1724a11fb1a7"
      },
      "source": [
        "# YOUR CODE HERE\n",
        "import numpy as np\n",
        "from scipy.linalg import solve\n",
        "Matrix_oils_2plants = np.array([[20,4],[10,14],[5,5]])\n",
        "Matrix_demand = np.array([6600,5100,3100])\n",
        "Produce= np.array([[20, 4,],\n",
        "              [10, 14],[5,5]])\n",
        "Demand = np.array([6600,5100,3100])\n",
        "try:\n",
        "  solution_2plants = np.linalg.solve(Matrix_oils_2plants,Matrix_demand)\n",
        "except Exception as e:\n",
        "  print(\" we cannot find the solution for the reason: \",e)"
      ],
      "execution_count": null,
      "outputs": [
        {
          "output_type": "stream",
          "name": "stdout",
          "text": [
            " we cannot find the solution for the reason:  Last 2 dimensions of the array must be square\n"
          ]
        }
      ]
    },
    {
      "cell_type": "code",
      "source": [
        "import numpy as np\n",
        "from scipy.linalg import solve\n",
        "\n",
        "Produce= np.array([[20, 4,],\n",
        "              [10, 14],[5,5]])\n",
        "Demand = np.array([6600,5100,3100])\n",
        "A_pinv = np.linalg.pinv( Produce)\n",
        "#print(A_pinv)\n",
        "x = np.dot(A_pinv,Demand)\n",
        "print(\"solution is \",x)\n",
        "print(\"solution is overdetermined , we  used psuedo method\"  )\n"
      ],
      "metadata": {
        "colab": {
          "base_uri": "https://localhost:8080/"
        },
        "id": "pDWKlFxFt0u9",
        "outputId": "fdaf074c-9498-469c-8d90-d51cdb33815f"
      },
      "execution_count": null,
      "outputs": [
        {
          "output_type": "stream",
          "name": "stdout",
          "text": [
            "solution is  [299.47204969 168.47826087]\n",
            "solution is overdetermined , we  used psuedo method\n"
          ]
        }
      ]
    },
    {
      "cell_type": "markdown",
      "metadata": {
        "id": "tZpzEVmEpzhx"
      },
      "source": [
        "### Buying another plant"
      ]
    },
    {
      "cell_type": "markdown",
      "metadata": {
        "id": "X0ghbS-s3Mel"
      },
      "source": [
        "####(Note the following given information. You will see questions in continuation to this, in the subsequent sections)\n",
        "\n",
        "This situation has caused enough concern that the CEO is considering buying another plant, identical to the third, and using it permanently. Assuming that all 4 plants are on line, what production do you recommend to meet the current demand (5000, 8500, 10000)? In general, what can you say about any increased flexibility that the 4th plant might provide?"
      ]
    },
    {
      "cell_type": "markdown",
      "metadata": {
        "id": "IcbiTq8zpzhx"
      },
      "source": [
        "Let the number of barrels used by factory $A$, $B$, $C$ and $D$ are $x$, $y$, $z$ and $w$ respectively.\n",
        "\n",
        "Then the system of linear equations will be\n",
        "\n",
        "$$20x + 4y + 4z + 4w = 5000$$\n",
        "\n",
        "$$10x + 14y + 5z + 5w = 8500$$\n",
        "\n",
        "$$5x + 5y + 12z + 12w = 10000$$\n",
        "\n",
        "The above system of linear equation has fewer equations than variables, hence it is *underdetermined* and cannot have a unique solution. In this case, there are either infinitely many solutions or no exact solution. We can solve it by keeping $w$ as constant and using [rref](http://linear.ups.edu/html/section-RREF.html) form to solve the system of linear equation.\n",
        "\n",
        "To know about rref implementation in python refer [here](https://docs.sympy.org/latest/tutorial/matrices.html#rref)."
      ]
    },
    {
      "cell_type": "code",
      "metadata": {
        "colab": {
          "base_uri": "https://localhost:8080/"
        },
        "id": "DnCYG65tB8gp",
        "outputId": "94ed1313-9636-4bb4-e23b-63519246f40f"
      },
      "source": [
        "import sympy as sy\n",
        "\n",
        "# create symbol 'w'\n",
        "w = sy.Symbol(\"w\")\n",
        "A_aug = sy.Matrix([[20, 4, 4, 5000-4*w],\n",
        "                   [10, 14, 5, 8500-5*w],\n",
        "                   [5, 5, 12, 10000-12*w]])\n",
        "\n",
        "# show rref form\n",
        "A_aug.rref()"
      ],
      "execution_count": null,
      "outputs": [
        {
          "output_type": "execute_result",
          "data": {
            "text/plain": [
              "(Matrix([\n",
              " [1, 0, 0,   195/4],\n",
              " [0, 1, 0,  1325/4],\n",
              " [0, 0, 1, 675 - w]]),\n",
              " (0, 1, 2))"
            ]
          },
          "metadata": {},
          "execution_count": 44
        }
      ]
    },
    {
      "cell_type": "markdown",
      "metadata": {
        "id": "1lcEL3n5pzhz"
      },
      "source": [
        "From the above result, it can be seen that 4th plant will share the number of barrels required by the 3rd plant only, while the requirement of 1st and 2nd plant will remain unaffected."
      ]
    },
    {
      "cell_type": "markdown",
      "metadata": {
        "id": "yE9hCfAMpzhz"
      },
      "source": [
        "### Calculate the amount of Paraffin supplied (1 point)"
      ]
    },
    {
      "cell_type": "markdown",
      "metadata": {
        "id": "u9HSGUeZquXD"
      },
      "source": [
        "The company has just found a candle company that will buy its paraffin. Under the current conditions (i.e, after buying another plant) for demand (5000, 8500, 10000), how much can be supplied to them per day?"
      ]
    },
    {
      "cell_type": "markdown",
      "metadata": {
        "id": "ilEui1GHA3Oh"
      },
      "source": [
        "According to the problem statement, factory $A$ has 3 gallons of paraffin to dispose of per barrel of crude oil, factory $B$ 5 gallons, and factory $C$ 2 gallons."
      ]
    },
    {
      "cell_type": "code",
      "metadata": {
        "id": "gJnUalG2_r0i",
        "colab": {
          "base_uri": "https://localhost:8080/"
        },
        "outputId": "a59538df-12c5-44fa-ad55-1decde871f75"
      },
      "source": [
        "# YOUR CODE HERE\n",
        "demand=sy.Matrix([[20, 4, 4, 5000],\n",
        "                   [10, 14, 5, 8500],\n",
        "                   [5, 5, 12, 10000],\n",
        "                  ])\n",
        "B= demand.rref()\n",
        "c=list(np.array(B[0]))\n",
        "\n",
        "Supply_per_day_A = c[0][3]*3\n",
        "Supply_per_day_B = c[1][3]*5\n",
        "Supply_per_day_C = c[2][3]*2\n",
        "total_parrafin = Supply_per_day_A+Supply_per_day_B+Supply_per_day_C\n",
        "print(\"Total paraffin suppied is\",total_parrafin.round(2))\n",
        "\n",
        "\n",
        "\n"
      ],
      "execution_count": null,
      "outputs": [
        {
          "output_type": "stream",
          "name": "stdout",
          "text": [
            "Total paraffin suppied is 3152.50\n"
          ]
        }
      ]
    },
    {
      "cell_type": "markdown",
      "metadata": {
        "id": "sSpnIH4Ypzh0"
      },
      "source": [
        "### Selling the first plant (1 point)"
      ]
    },
    {
      "cell_type": "markdown",
      "metadata": {
        "id": "8l3c1GN14EDp"
      },
      "source": [
        "The management is also considering selling the first plant due to aging equipment and high workman's compensation costs for the state it is located in. They would like to know what this would do to their production capability. Specifically, they would like an example of a demand they could not meet with only plants 2 and 3, and also what effect having plant 4 has (recall it is identical to plant 3). They would also like an example of a demand that they could meet with just plants 2 and 3. Any general statements you could make here would be helpful."
      ]
    },
    {
      "cell_type": "markdown",
      "metadata": {
        "id": "qYz46wb2GTo7"
      },
      "source": [
        "Let the number of barrels used by factory $B$, $C$ and $D$ are $y$, $z$ and $w$ respectively.\n",
        "\n",
        "When considering only plants 2 and 3, and demand (5000, 8500, 10000) then we have\n",
        "\n",
        "$$4y + 4z = 5000$$\n",
        "\n",
        "$$14y + 5z = 8500$$\n",
        "\n",
        "$$5y + 12z = 10000$$"
      ]
    },
    {
      "cell_type": "code",
      "metadata": {
        "id": "Ru-prbsHGwH_",
        "colab": {
          "base_uri": "https://localhost:8080/"
        },
        "outputId": "68eb5d24-1d8c-46ac-8b6a-f4d88ac1cfb0"
      },
      "source": [
        "# YOUR CODE HERE\n",
        "import numpy as np\n",
        "from scipy.linalg import solve\n",
        "Matrix_oils_B_C= np.array([[4,4],[14,5],[5,12]])\n",
        "Matrix_demand_B_C = np.array([5000,8500,10000])\n",
        "A_aug =sy.Matrix( [[4,4,5000],[14,5,8500],[5,12,10000]])\n",
        "solution_B_C = A_aug.rref()\n",
        "\n",
        "print(\"solution is \",solution_B_C)\n"
      ],
      "execution_count": null,
      "outputs": [
        {
          "output_type": "stream",
          "name": "stdout",
          "text": [
            "solution is  (Matrix([\n",
            "[1, 0, 0],\n",
            "[0, 1, 0],\n",
            "[0, 0, 1]]), (0, 1, 2))\n"
          ]
        }
      ]
    },
    {
      "cell_type": "code",
      "source": [
        "import numpy as np\n",
        "from scipy.linalg import solve\n",
        "Matrix_oils_B_C= np.array([[4,4],[14,5],[5,12]])\n",
        "Matrix_demand_B_C = np.array([5000,8500,10000])\n",
        "A_pinv = np.linalg.pinv( Matrix_oils_B_C)\n",
        "x = np.dot(A_pinv,Matrix_demand_B_C)\n",
        "print(\"solution is \",x)\n",
        "print(\"solution is underdetermined , we  used psuedo method\"  )"
      ],
      "metadata": {
        "colab": {
          "base_uri": "https://localhost:8080/"
        },
        "id": "5E69j0Dtx6xZ",
        "outputId": "faff372b-c4b8-46c6-e8d4-e61723786aec"
      },
      "execution_count": null,
      "outputs": [
        {
          "output_type": "stream",
          "name": "stdout",
          "text": [
            "solution is  [369.30178881 695.03750721]\n",
            "solution is underdetermined , we  used psuedo method\n"
          ]
        }
      ]
    },
    {
      "cell_type": "markdown",
      "metadata": {
        "id": "bLsK1-zNEP0T"
      },
      "source": [
        "Taking 4th plant into consideration.\n",
        "Let the number of barrels used by factory $B$, $C$ and $D$ are $y$, $z$ and $w$ respectively.\n",
        "\n",
        "Then for demand (5000, 8500, 10000) the system of linear equations will be\n",
        "\n",
        "$$4y + 4z + 4w = 5000$$\n",
        "\n",
        "$$14y + 5z + 5w = 8500$$\n",
        "\n",
        "$$5y + 12z + 12w = 10000$$\n",
        "\n",
        "Solve it using rref form."
      ]
    },
    {
      "cell_type": "code",
      "metadata": {
        "id": "5lqPcpJ9F9xx",
        "colab": {
          "base_uri": "https://localhost:8080/"
        },
        "outputId": "f9f0fbe7-fdd2-4939-b01f-4c2e50390dbd"
      },
      "source": [
        "#Method 1\n",
        "demand_BCD =sy.Matrix([[4,4,4, 5000],\n",
        "                      [14, 5,5, 8500],\n",
        "                      [ 5, 12,12,10000]])\n",
        "print(demand_BCD.rref())\n",
        "print(\"Since column 2 and column 3 are linearly dependent , It has many solutions\")"
      ],
      "execution_count": null,
      "outputs": [
        {
          "output_type": "stream",
          "name": "stdout",
          "text": [
            "(Matrix([\n",
            "[1, 0, 0, 0],\n",
            "[0, 1, 1, 0],\n",
            "[0, 0, 0, 1]]), (0, 1, 3))\n",
            "Since column 2 and column 3 are linearly dependent , It has many solutions\n"
          ]
        }
      ]
    },
    {
      "cell_type": "code",
      "source": [
        "#Method 2\n",
        "Matrix_oils_BDC = np.array([[4,4,4],[14,5,5],[5,12,12]])\n",
        "Matrix_demand_BCD = np.array([5000,8500,1000])\n",
        "solution_BCD= scipy.linalg.solve(Matrix_oils_BDC,Matrix_demand_BCD)\n",
        "solution_BCD.astype(int)\n"
      ],
      "metadata": {
        "colab": {
          "base_uri": "https://localhost:8080/"
        },
        "id": "YxDqlHkODHCo",
        "outputId": "50b6e5cc-c54f-4bd2-8433-45d50bfe4593"
      },
      "execution_count": null,
      "outputs": [
        {
          "output_type": "stream",
          "name": "stderr",
          "text": [
            "<ipython-input-60-0c52b6466c34>:3: LinAlgWarning: Ill-conditioned matrix (rcond=9.65411e-18): result may not be accurate.\n",
            "  solution_BCD= scipy.linalg.solve(Matrix_oils_BDC,Matrix_demand_BCD)\n"
          ]
        },
        {
          "output_type": "execute_result",
          "data": {
            "text/plain": [
              "array([                 585, -6944361663183177728,  6944361663183177728])"
            ]
          },
          "metadata": {},
          "execution_count": 60
        }
      ]
    },
    {
      "cell_type": "code",
      "source": [
        "#Method 3\n",
        "Matrix_oils_BDC = np.array([[4,4,4],[14,5,5],[5,12,12]])\n",
        "Matrix_demand_BCD = np.array([5000,8500,1000])\n",
        "A_pinv = np.linalg.pinv( Matrix_oils_BDC)\n",
        "x = np.dot(A_pinv,Matrix_demand_BCD)\n",
        "print(x)"
      ],
      "metadata": {
        "colab": {
          "base_uri": "https://localhost:8080/"
        },
        "id": "7FER0V5e2rHA",
        "outputId": "41dd2038-fe85-465b-d1db-2646addcc2ce"
      },
      "execution_count": null,
      "outputs": [
        {
          "output_type": "stream",
          "name": "stdout",
          "text": [
            "[699.67597319 -74.73700564 -74.73700564]\n"
          ]
        }
      ]
    },
    {
      "cell_type": "markdown",
      "metadata": {
        "id": "u7SDjgFkP5fj"
      },
      "source": [
        "Now, changing demand to (6600, 5100, 3100) and solving the system of equation using rref form."
      ]
    },
    {
      "cell_type": "code",
      "metadata": {
        "id": "nwSpgbqAGlON",
        "colab": {
          "base_uri": "https://localhost:8080/"
        },
        "outputId": "117b74bd-ddc4-41d0-f638-32ec57d53701"
      },
      "source": [
        "# YOUR CODE HERE\n",
        "demand_BCD =sy.Matrix([[4,4,4, 6600],\n",
        "                      [14, 5,5, 5100],\n",
        "                      [ 5, 12,12,3100]])\n",
        "print(demand_BCD.rref())\n",
        "print(\"Since column 2 and column 3 are linearly dependent , It has many solutions\")"
      ],
      "execution_count": null,
      "outputs": [
        {
          "output_type": "stream",
          "name": "stdout",
          "text": [
            "(Matrix([\n",
            "[1, 0, 0, 0],\n",
            "[0, 1, 1, 0],\n",
            "[0, 0, 0, 1]]), (0, 1, 3))\n",
            "Since column 2 and column 3 are linearly dependent , It has many solutions\n"
          ]
        }
      ]
    },
    {
      "cell_type": "markdown",
      "metadata": {
        "id": "fngUPMK_pzh1"
      },
      "source": [
        "### Set rates for Products (1 point)"
      ]
    },
    {
      "cell_type": "markdown",
      "metadata": {
        "id": "8Go0tQYtpzh1"
      },
      "source": [
        "Company wants to set the rates of motor oil, diesel oil, and gasoline. For this purpose they have few suggestions given as follows:\n",
        "\n",
        "* 100, 66, 102 Rupees per gallon,\n",
        "\n",
        "* 104, 64, 100 Rupees per gallon,\n",
        "\n",
        "* 102, 68, 98 Rupees per gallon, and\n",
        "\n",
        "* 96, 68, 100 Rupees per gallon\n",
        "\n",
        "for motor oil, diesel oil, and gasoline respectively.\n",
        "\n",
        "Using matrix multiplication, find the rates which result in maximum total price."
      ]
    },
    {
      "cell_type": "markdown",
      "metadata": {
        "id": "9yRue5zIpzh1"
      },
      "source": [
        "Let $M$ denote the matrix such that rows represents different plants (A, B and C), columns represents different products (motor oil, diesel oil and gasoline) and each value represents production of that product from one barrel of crude oil for that plant.\n",
        "\n",
        "$$M = \\begin{bmatrix}\n",
        "20 & 10 & 5 \\\\\n",
        "4 & 14 & 5  \\\\\n",
        " 4 & 5 & 12  \n",
        "\\end{bmatrix}$$\n",
        "\n",
        "Also, $R$ is a matrix having different rates as its columns.\n",
        "\n",
        "$$R = \\begin{bmatrix}\n",
        "100 & 104 & 102 & 96 \\\\\n",
        "66 & 64 & 68 & 68  \\\\\n",
        "102 & 100 & 98 & 100  \n",
        "\\end{bmatrix}$$"
      ]
    },
    {
      "cell_type": "code",
      "metadata": {
        "id": "Sz5Bef3npzh1",
        "colab": {
          "base_uri": "https://localhost:8080/"
        },
        "outputId": "e6576f17-c5c0-47bd-9749-b0bd5374e7fc"
      },
      "source": [
        "# YOUR CODE HERE\n",
        "M=np.array([[20, 10, 5],\n",
        "              [4, 14, 5],\n",
        "              [4, 5, 12]])\n",
        "M\n",
        "R=np.array([[100,104,102,96],\n",
        "           [66,64,68,68],\n",
        "           [102,100,98,100]])\n",
        "R\n",
        "Cost=np.dot(M,R)\n",
        "print(\"Cost array:\",Cost.sum(axis=0))\n",
        "print(\"rate combination which result in maximum total price is\",R[:,2], \"and the mazx cost is :\",max(Cost.sum(axis=0)))\n"
      ],
      "execution_count": null,
      "outputs": [
        {
          "output_type": "stream",
          "name": "stdout",
          "text": [
            "Cost array: [6958 6968 6984 6860]\n",
            "rate combination which result in maximum total price is [102  68  98] and the mazx cost is : 6984\n"
          ]
        }
      ]
    },
    {
      "cell_type": "markdown",
      "metadata": {
        "id": "cga8JrkApzh1"
      },
      "source": [
        "### Marginal Cost (1 point)"
      ]
    },
    {
      "cell_type": "markdown",
      "metadata": {
        "id": "8nN5V5NXpzh2"
      },
      "source": [
        "The total cost $C(x)$ in Rupees, associated with the production of $x$ gallons of gasoline is given by\n",
        "\n",
        "$$C(x) = 0.005 x^3 – 0.02 x^2 + 30x + 5000$$\n",
        "\n",
        "Find the marginal cost when $22$ gallons are produced, where, marginal cost means the instantaneous rate of change of total cost at any level of output."
      ]
    },
    {
      "cell_type": "code",
      "metadata": {
        "id": "rO-HMED3pzh2",
        "colab": {
          "base_uri": "https://localhost:8080/"
        },
        "outputId": "946ce52f-259d-4855-943c-f33f091ba662"
      },
      "source": [
        "# YOUR CODE HERE\n",
        "#differenciation at 22\n",
        "from sympy import *\n",
        "x= symbols('x')\n",
        "C=0.005*x**3-0.02*x**2+30*x+5000\n",
        "gx = C.diff(x)\n",
        "print(\"Rate of change of total cost at any level\",gx)\n",
        "hx=gx.subs(x,22)\n",
        "print(\"marginal cost when  22  gallons are produced\",hx)"
      ],
      "execution_count": null,
      "outputs": [
        {
          "output_type": "stream",
          "name": "stdout",
          "text": [
            "Rate of change of total cost at any level 0.015*x**2 - 0.04*x + 30\n",
            "marginal cost when  22  gallons are produced 36.3800000000000\n"
          ]
        }
      ]
    },
    {
      "cell_type": "markdown",
      "metadata": {
        "id": "qOMlrDEhpzh2"
      },
      "source": [
        "### Marginal Revenue (1 point)"
      ]
    },
    {
      "cell_type": "markdown",
      "metadata": {
        "id": "bfS88lmWpzh2"
      },
      "source": [
        "The total revenue in Rupees received from the sale of $x$ gallons of a motor oil is given by $$R(x) = 3x^2 + 36x + 5.$$\n",
        "\n",
        "Find the marginal revenue, when $x = 28$, where, marginal revenue means the rate of change of total revenue with respect to the number of items sold at an instant."
      ]
    },
    {
      "cell_type": "code",
      "metadata": {
        "id": "rb0h6p49pzh2",
        "colab": {
          "base_uri": "https://localhost:8080/"
        },
        "outputId": "a39fb82d-c30b-4d96-98c9-ec27383361db"
      },
      "source": [
        "# YOUR CODE HERE\n",
        "from sympy import *\n",
        "x= symbols('x')\n",
        "C=3*x**2+36*x+5\n",
        "gx = C.diff(x)\n",
        "print(\"diff equation:\",gx)\n",
        "hx=gx.subs(x,28)\n",
        "print(\"marginal revenue when x=28 \", hx)"
      ],
      "execution_count": null,
      "outputs": [
        {
          "output_type": "stream",
          "name": "stdout",
          "text": [
            "diff equation: 6*x + 36\n",
            "marginal revenue when x=28  204\n"
          ]
        }
      ]
    },
    {
      "cell_type": "markdown",
      "metadata": {
        "id": "ZKb5VuM_pzh2"
      },
      "source": [
        "### Pouring crude oil in tank (1 point)"
      ]
    },
    {
      "cell_type": "markdown",
      "metadata": {
        "id": "TD9zv5jPpzh2"
      },
      "source": [
        "In a cylindrical tank of radius 10 meter, crude oil is being poured at the rate of 314 cubic meter per hour. Then find\n",
        "\n",
        "* the rate at which the height of crude oil is increasing in the tank, and\n",
        "* the height of crude oil in tank after 2 hours."
      ]
    },
    {
      "cell_type": "code",
      "metadata": {
        "id": "g6ntcdNypzh2",
        "colab": {
          "base_uri": "https://localhost:8080/"
        },
        "outputId": "a4a84760-f354-4d17-cb5a-d5f334c27923"
      },
      "source": [
        "# YOUR CODE HERE\n",
        "from sympy import *\n",
        "r,h= symbols('r,h')\n",
        "C=np.pi*r**2*h\n",
        "gx = C.diff(h)\n",
        "rate_of_height = 314/gx\n",
        "print(\"the rate at which the height of crude oil is increasing in the tank:\",rate_of_height.subs(r,10))\n",
        "print(\"height of crude oil in tank after 2 hours:\",rate_of_height.subs(r,10)*2)"
      ],
      "execution_count": null,
      "outputs": [
        {
          "output_type": "stream",
          "name": "stdout",
          "text": [
            "the rate at which the height of crude oil is increasing in the tank: 0.999493042617103\n",
            "height of crude oil in tank after 2 hours: 1.99898608523421\n"
          ]
        }
      ]
    }
  ]
}